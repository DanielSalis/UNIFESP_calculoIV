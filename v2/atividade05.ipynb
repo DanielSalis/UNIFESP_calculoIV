{
  "nbformat": 4,
  "nbformat_minor": 0,
  "metadata": {
    "colab": {
      "provenance": []
    },
    "kernelspec": {
      "name": "python3",
      "display_name": "Python 3"
    },
    "language_info": {
      "name": "python"
    }
  },
  "cells": [
    {
      "cell_type": "markdown",
      "source": [
        "## Exercício 01"
      ],
      "metadata": {
        "id": "oUYgC0j0PrCJ"
      }
    },
    {
      "cell_type": "code",
      "execution_count": 4,
      "metadata": {
        "colab": {
          "base_uri": "https://localhost:8080/"
        },
        "id": "zO1jrmq4OKDF",
        "outputId": "70a05a21-329b-4757-85ad-1d37b86c0022"
      },
      "outputs": [
        {
          "output_type": "stream",
          "name": "stdout",
          "text": [
            "O valor de y(0.4) é aproximadamente 1.48886\n"
          ]
        }
      ],
      "source": [
        "def euler_method(func, y0, h, x_target):\n",
        "    x = 0\n",
        "    y = y0\n",
        "    steps = int(x_target / h)\n",
        "    for _ in range(steps):\n",
        "        y += h * func(y)\n",
        "        x += h\n",
        "    return y\n",
        "\n",
        "def differential_eq(y):\n",
        "    return y\n",
        "\n",
        "y0 = 1\n",
        "x_target = 0.4\n",
        "h = 0.01\n",
        "\n",
        "result = euler_method(differential_eq, y0, h, x_target)\n",
        "print(f'O valor de y({x_target}) é aproximadamente {result:.5f}')\n"
      ]
    },
    {
      "cell_type": "markdown",
      "source": [
        "## Exercício 02"
      ],
      "metadata": {
        "id": "XTH-wtwJP4hw"
      }
    },
    {
      "cell_type": "code",
      "source": [
        "def euler_method(func, y0, h, x_target):\n",
        "    x = 0\n",
        "    y = y0\n",
        "    steps = int(x_target / h)\n",
        "    for _ in range(steps):\n",
        "        y += h * func(x, y)\n",
        "        x += h\n",
        "    return y\n",
        "\n",
        "def differential_eq(x, y):\n",
        "    return 4 * x**3\n",
        "\n",
        "y0 = 0\n",
        "x_target = 1\n",
        "h = 0.2\n",
        "\n",
        "result = euler_method(differential_eq, y0, h, x_target)\n",
        "print(f'O valor de y({x_target}) é aproximadamente {result:.5f}')\n"
      ],
      "metadata": {
        "colab": {
          "base_uri": "https://localhost:8080/"
        },
        "id": "BhqVZwABO44M",
        "outputId": "3d23cf30-0a34-43b6-9200-61a2fd5259f1"
      },
      "execution_count": 6,
      "outputs": [
        {
          "output_type": "stream",
          "name": "stdout",
          "text": [
            "O valor de y(1) é aproximadamente 0.64000\n"
          ]
        }
      ]
    },
    {
      "cell_type": "markdown",
      "source": [
        "## Exercício 03"
      ],
      "metadata": {
        "id": "dcsTLJT-SfbH"
      }
    },
    {
      "cell_type": "code",
      "source": [
        "def euler_method(func, T0, h, Tc):\n",
        "    B = 1e-3  # Constante B\n",
        "    time = 0\n",
        "    T = T0\n",
        "    while abs(T - Tc) > 0.05 * abs(Tc - T0):\n",
        "        T += h * B * (Tc - T)\n",
        "        time += h\n",
        "    return time / 60  # Converter para minutos\n",
        "\n",
        "# Condições iniciais e parâmetros\n",
        "T0 = 293  # Temperatura ambiente\n",
        "Tc = 313  # Temperatura febril\n",
        "h = 1  # Passo de tempo inicial (pode ser ajustado conforme necessário)\n",
        "\n",
        "result = euler_method(None, T0, h, Tc)\n",
        "print(f'O tempo mínimo necessário para aferição com 95% de precisão é aproximadamente {result:.2f} minutos.')\n"
      ],
      "metadata": {
        "colab": {
          "base_uri": "https://localhost:8080/"
        },
        "id": "teJB6iVRSjo3",
        "outputId": "635025a1-b6de-4c47-87c5-823fe34519ff"
      },
      "execution_count": 7,
      "outputs": [
        {
          "output_type": "stream",
          "name": "stdout",
          "text": [
            "O tempo mínimo necessário para aferição com 95% de precisão é aproximadamente 49.92 minutos.\n"
          ]
        }
      ]
    },
    {
      "cell_type": "markdown",
      "source": [
        "É possível encontrar uma solução analítica, no entanto, para calcular o tempo exato necessário para aferição com 95% de precisão pode ser mais complexo."
      ],
      "metadata": {
        "id": "jsIXs8BhSyrN"
      }
    },
    {
      "cell_type": "markdown",
      "source": [
        "Exercício 04"
      ],
      "metadata": {
        "id": "oggLSW_aVyBg"
      }
    },
    {
      "cell_type": "code",
      "source": [
        "def euler_method(func, m0, h, half_mass):\n",
        "    p = 5e-2  # Constante p\n",
        "    time = 0\n",
        "    m = m0\n",
        "    while m > half_mass:\n",
        "        m += h * (-p * m**(2/3))\n",
        "        time += h\n",
        "    return time\n",
        "\n",
        "m0 = 2\n",
        "half_mass = m0 / 2\n",
        "h = 0.1\n",
        "\n",
        "result = euler_method(None, m0, h, half_mass)\n",
        "print(f'Uma amostra de 2kg é reduzida pela metade em aproximadamente {result:.2f} minutos.')\n"
      ],
      "metadata": {
        "colab": {
          "base_uri": "https://localhost:8080/"
        },
        "id": "-5tPBQNvTEsO",
        "outputId": "edb3eeed-3fe7-46b9-cef4-b20051043b00"
      },
      "execution_count": 8,
      "outputs": [
        {
          "output_type": "stream",
          "name": "stdout",
          "text": [
            "Uma amostra de 2kg é reduzida pela metade em aproximadamente 15.60 minutos.\n"
          ]
        }
      ]
    }
  ]
}