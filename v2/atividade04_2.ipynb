{
 "cells": [
  {
   "cell_type": "code",
   "execution_count": 9,
   "metadata": {},
   "outputs": [],
   "source": [
    "import math"
   ]
  },
  {
   "cell_type": "markdown",
   "metadata": {},
   "source": [
    "## Exercício 01\n",
    "### Approximate the integral"
   ]
  },
  {
   "cell_type": "code",
   "execution_count": 10,
   "metadata": {},
   "outputs": [
    {
     "name": "stdout",
     "output_type": "stream",
     "text": [
      "Aprocimação 19.849408436213988\n",
      "Valor exato: 14.583333333333334\n",
      "Erro: 5.266075102880654\n"
     ]
    }
   ],
   "source": [
    "def f(x):\n",
    "    return x**4 - 3*x**3 + 2*x**2 - 3\n",
    "\n",
    "a = -2\n",
    "b = 3\n",
    "n = 30\n",
    "h = (b - a) / n\n",
    "\n",
    "integral_approximation = 0\n",
    "\n",
    "#Trapezoidal rule\n",
    "for i in range(n+1):\n",
    "    x_i = a + i * h\n",
    "    integral_approximation += f(x_i)\n",
    "integral_approximation *= h\n",
    "\n",
    "exact_value = 175/12\n",
    "\n",
    "print(\"Aprocimação\", integral_approximation)\n",
    "print(\"Valor exato:\", exact_value)\n",
    "print(\"Erro:\", abs(exact_value - integral_approximation))"
   ]
  },
  {
   "cell_type": "markdown",
   "metadata": {},
   "source": [
    "# Exercício 2\n",
    "## Let f(x) = e^-x^2 and consider the integral"
   ]
  },
  {
   "cell_type": "code",
   "execution_count": 11,
   "metadata": {},
   "outputs": [
    {
     "name": "stdout",
     "output_type": "stream",
     "text": [
      "Aproximação: 0.7429840978003812\n"
     ]
    }
   ],
   "source": [
    "\n",
    "def f(x):\n",
    "    return math.exp(-x**2)\n",
    "\n",
    "a = 0\n",
    "b = 1\n",
    "h = 0.25\n",
    "n = int((b - a) / h)\n",
    "\n",
    "integral_approximation = 0\n",
    "\n",
    "for i in range(n):\n",
    "    x_i = a + i * h\n",
    "    x_ip1 = a + (i + 1) * h\n",
    "    integral_approximation += (f(x_i) + f(x_ip1)) / 2\n",
    "\n",
    "integral_approximation *= h\n",
    "\n",
    "# Print the approximation\n",
    "print(\"Aproximação:\", integral_approximation)\n"
   ]
  },
  {
   "cell_type": "markdown",
   "metadata": {},
   "source": [
    "# Exercício 3\n",
    "## Evaluate the following integral bt simpson's rule "
   ]
  },
  {
   "cell_type": "code",
   "execution_count": 12,
   "metadata": {},
   "outputs": [
    {
     "name": "stdout",
     "output_type": "stream",
     "text": [
      "Aproximação: 36.2578125\n"
     ]
    }
   ],
   "source": [
    "def f(x):\n",
    "    return 2*x**5 + 5*x**3 - 3*x + 1\n",
    "\n",
    "a = 1\n",
    "b = 2\n",
    "n = 4\n",
    "h = (b - a) / n\n",
    "\n",
    "integral_approximation = f(a) + f(b)\n",
    "\n",
    "#Simpson's rule\n",
    "for i in range(1, n, 2):\n",
    "    integral_approximation += 4 * f(a + i * h)\n",
    "\n",
    "for i in range(2, n - 1, 2):\n",
    "    integral_approximation += 2 * f(a + i * h)\n",
    "\n",
    "integral_approximation *= h / 3\n",
    "\n",
    "print(\"Aproximação:\", integral_approximation)"
   ]
  },
  {
   "cell_type": "markdown",
   "metadata": {},
   "source": [
    "# Exercício 4\n",
    "## Evaluate the integral = from 0 to pi (dx/4+sin(20x)) "
   ]
  },
  {
   "cell_type": "code",
   "execution_count": 13,
   "metadata": {},
   "outputs": [
    {
     "name": "stdout",
     "output_type": "stream",
     "text": [
      "Approximation using Simpson's Rule with n = 10: 0.7853981633974444\n",
      "Approximation using Simpson's Rule with n = 20: 0.7853981633974504\n",
      "Approximation using Simpson's Rule with n = 30: 0.7853981633974517\n"
     ]
    }
   ],
   "source": [
    "def f(x):\n",
    "    return 1/4 + math.sin(20*x)\n",
    "\n",
    "a = 0\n",
    "b = math.pi\n",
    "\n",
    "n_values = [10, 20, 30]\n",
    "\n",
    "for n in n_values:\n",
    "    h = (b - a) / n\n",
    "\n",
    "    integral_approximation = f(a) + f(b)\n",
    "\n",
    "    for i in range(1, n):\n",
    "        x_i = a + i * h\n",
    "        integral_approximation += 4 * f(x_i) if i % 2 == 1 else 2 * f(x_i)\n",
    "\n",
    "    integral_approximation *= h / 3\n",
    "    print(f\"Approximation using Simpson's Rule with n = {n}:\", integral_approximation)"
   ]
  },
  {
   "cell_type": "markdown",
   "metadata": {},
   "source": [
    "# Exercício 5\n",
    "## A radar was used to record the speed of a runner during the first 4 seconds of a race"
   ]
  },
  {
   "cell_type": "code",
   "execution_count": 15,
   "metadata": {},
   "outputs": [
    {
     "name": "stdout",
     "output_type": "stream",
     "text": [
      "Simpson's Rule: 34.001666666666665m\n"
     ]
    }
   ],
   "source": [
    "time = [0.0, 0.5, 1.0, 1.5, 2.0, 2.5, 3.0, 3.5, 4.0]\n",
    "velocity = [0, 4.66, 7.72, 8.76, 9.72, 10.10, 10.53, 10.77, 10.91]\n",
    "n = len(time) - 1\n",
    "h = (time[-1] - time[0]) / n\n",
    "\n",
    "distance_approximation = velocity[0] + velocity[-1]\n",
    "\n",
    "for i in range(1, n, 2):\n",
    "    distance_approximation += 4 * velocity[i]\n",
    "\n",
    "for i in range(2, n - 1, 2):\n",
    "    distance_approximation += 2 * velocity[i]\n",
    "\n",
    "distance_approximation *= h / 3\n",
    "\n",
    "print(\"Simpson's Rule: \" + str(distance_approximation) + \"m\")\n"
   ]
  }
 ],
 "metadata": {
  "kernelspec": {
   "display_name": "Python 3",
   "language": "python",
   "name": "python3"
  },
  "language_info": {
   "codemirror_mode": {
    "name": "ipython",
    "version": 3
   },
   "file_extension": ".py",
   "mimetype": "text/x-python",
   "name": "python",
   "nbconvert_exporter": "python",
   "pygments_lexer": "ipython3",
   "version": "3.11.3"
  },
  "orig_nbformat": 4
 },
 "nbformat": 4,
 "nbformat_minor": 2
}
